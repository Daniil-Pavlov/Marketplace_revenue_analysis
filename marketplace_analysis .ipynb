{
 "cells": [
  {
   "cell_type": "markdown",
   "metadata": {},
   "source": [
    "# Аналитик данных маркетплейса"
   ]
  },
  {
   "cell_type": "code",
   "execution_count": 3,
   "metadata": {},
   "outputs": [],
   "source": [
    "# Подгрузка библиотек\n",
    "import pandas as pd\n",
    "import numpy as np\n",
    "from datetime import datetime\n",
    "from statistics import median\n",
    "from operator import attrgetter\n",
    "import seaborn as sns\n",
    "from matplotlib import pyplot as plt\n",
    "from matplotlib import colors as mcolors"
   ]
  },
  {
   "cell_type": "code",
   "execution_count": 4,
   "metadata": {},
   "outputs": [],
   "source": [
    "# Подгрузка таблиц\n",
    "olist_customers_dataset = pd.read_csv('olist_customers_dataset.csv')\n",
    "olist_order_items_dataset = pd.read_csv('olist_order_items_dataset.csv', parse_dates=['shipping_limit_date'])\n",
    "olist_orders_dataset = pd.read_csv('olist_orders_dataset.csv', parse_dates=['order_purchase_timestamp','order_approved_at','order_delivered_carrier_date','order_delivered_customer_date','order_estimated_delivery_date'])"
   ]
  },
  {
   "cell_type": "markdown",
   "metadata": {},
   "source": [
    "### Задача 1: Оценить месячный retention в оформление заказа с помощью когортного анализа."
   ]
  },
  {
   "cell_type": "code",
   "execution_count": 5,
   "metadata": {},
   "outputs": [],
   "source": [
    "rot = olist_orders_dataset.query(\"order_status == 'delivered'\")\n",
    "rot = pd.merge(rot, olist_customers_dataset, on='customer_id', how='left')"
   ]
  },
  {
   "cell_type": "code",
   "execution_count": 6,
   "metadata": {},
   "outputs": [],
   "source": [
    "# Создание колонки со временем оформления первого доставленного клиента.\n",
    "fst_orders_df = rot.groupby(['customer_unique_id'],as_index = False).agg({'order_purchase_timestamp':'min'})\n",
    "fst_orders_df = fst_orders_df.rename(columns={'order_purchase_timestamp' : 'fst_order'})  "
   ]
  },
  {
   "cell_type": "code",
   "execution_count": 7,
   "metadata": {},
   "outputs": [],
   "source": [
    "# Добавление колонки со временем оформления первого доставленного клиента в основной df.\n",
    "rot = pd.merge(rot, fst_orders_df, on='customer_unique_id' ,how='left')"
   ]
  },
  {
   "cell_type": "code",
   "execution_count": 8,
   "metadata": {},
   "outputs": [],
   "source": [
    "# Создание колонок когорты и колонки с количеством месяцев прошедших спустя оформления первого успешного заказа.\n",
    "rot ['months_passed'] = np.floor((rot.order_purchase_timestamp - rot.fst_order).dt.days / 30)\n",
    "rot ['cohort'] = rot.fst_order.dt.to_period(\"M\")"
   ]
  },
  {
   "cell_type": "code",
   "execution_count": 9,
   "metadata": {},
   "outputs": [],
   "source": [
    "# Определение количества успешных заказов в разбивке по когортам и месяцам прошедшим спустя оформления первого успешного заказа.\n",
    "rot_tbl = rot.groupby(['cohort','months_passed'],as_index=False)['customer_unique_id'].nunique()\n",
    "rot_tbl = rot_tbl.rename(columns={'customer_unique_id' : 'count_user'})  "
   ]
  },
  {
   "cell_type": "code",
   "execution_count": 10,
   "metadata": {},
   "outputs": [],
   "source": [
    "# Определение количества клиента в нулевой день в разбивке по когортам. (Новые клиенты совершившие успешный заказ)\n",
    "zero_day = rot_tbl.groupby(['cohort'],as_index=False).agg({'count_user':'max'})"
   ]
  },
  {
   "cell_type": "code",
   "execution_count": 11,
   "metadata": {},
   "outputs": [],
   "source": [
    "# Добавление заказов нулевого дня\n",
    "rot_tbl = pd.merge(rot_tbl, zero_day, on='cohort' ,how='left')"
   ]
  },
  {
   "cell_type": "code",
   "execution_count": 12,
   "metadata": {},
   "outputs": [],
   "source": [
    "# Определение retention (доля)\n",
    "rot_tbl['retention'] = round( rot_tbl.count_user_x/rot_tbl.count_user_y ,4)"
   ]
  },
  {
   "cell_type": "code",
   "execution_count": 13,
   "metadata": {},
   "outputs": [],
   "source": [
    "# Определение retention (%)\n",
    "rot_tbl['retention_prc'] = round( rot_tbl.count_user_x*100/rot_tbl.count_user_y ,4)"
   ]
  },
  {
   "cell_type": "markdown",
   "metadata": {},
   "source": [
    "##### 1.1 Построить месячный retention."
   ]
  },
  {
   "cell_type": "code",
   "execution_count": 14,
   "metadata": {},
   "outputs": [
    {
     "data": {
      "text/html": [
       "<div>\n",
       "<style scoped>\n",
       "    .dataframe tbody tr th:only-of-type {\n",
       "        vertical-align: middle;\n",
       "    }\n",
       "\n",
       "    .dataframe tbody tr th {\n",
       "        vertical-align: top;\n",
       "    }\n",
       "\n",
       "    .dataframe thead th {\n",
       "        text-align: right;\n",
       "    }\n",
       "</style>\n",
       "<table border=\"1\" class=\"dataframe\">\n",
       "  <thead>\n",
       "    <tr style=\"text-align: right;\">\n",
       "      <th>months_passed</th>\n",
       "      <th>0.0</th>\n",
       "      <th>1.0</th>\n",
       "      <th>2.0</th>\n",
       "      <th>3.0</th>\n",
       "      <th>4.0</th>\n",
       "      <th>5.0</th>\n",
       "      <th>6.0</th>\n",
       "      <th>7.0</th>\n",
       "      <th>8.0</th>\n",
       "      <th>9.0</th>\n",
       "      <th>...</th>\n",
       "      <th>11.0</th>\n",
       "      <th>12.0</th>\n",
       "      <th>13.0</th>\n",
       "      <th>14.0</th>\n",
       "      <th>15.0</th>\n",
       "      <th>16.0</th>\n",
       "      <th>17.0</th>\n",
       "      <th>19.0</th>\n",
       "      <th>20.0</th>\n",
       "      <th>21.0</th>\n",
       "    </tr>\n",
       "    <tr>\n",
       "      <th>cohort</th>\n",
       "      <th></th>\n",
       "      <th></th>\n",
       "      <th></th>\n",
       "      <th></th>\n",
       "      <th></th>\n",
       "      <th></th>\n",
       "      <th></th>\n",
       "      <th></th>\n",
       "      <th></th>\n",
       "      <th></th>\n",
       "      <th></th>\n",
       "      <th></th>\n",
       "      <th></th>\n",
       "      <th></th>\n",
       "      <th></th>\n",
       "      <th></th>\n",
       "      <th></th>\n",
       "      <th></th>\n",
       "      <th></th>\n",
       "      <th></th>\n",
       "      <th></th>\n",
       "    </tr>\n",
       "  </thead>\n",
       "  <tbody>\n",
       "    <tr>\n",
       "      <th>2016-09</th>\n",
       "      <td>1.0</td>\n",
       "      <td>NaN</td>\n",
       "      <td>NaN</td>\n",
       "      <td>NaN</td>\n",
       "      <td>NaN</td>\n",
       "      <td>NaN</td>\n",
       "      <td>NaN</td>\n",
       "      <td>NaN</td>\n",
       "      <td>NaN</td>\n",
       "      <td>NaN</td>\n",
       "      <td>...</td>\n",
       "      <td>NaN</td>\n",
       "      <td>NaN</td>\n",
       "      <td>NaN</td>\n",
       "      <td>NaN</td>\n",
       "      <td>NaN</td>\n",
       "      <td>NaN</td>\n",
       "      <td>NaN</td>\n",
       "      <td>NaN</td>\n",
       "      <td>NaN</td>\n",
       "      <td>NaN</td>\n",
       "    </tr>\n",
       "    <tr>\n",
       "      <th>2016-10</th>\n",
       "      <td>1.0</td>\n",
       "      <td>NaN</td>\n",
       "      <td>NaN</td>\n",
       "      <td>NaN</td>\n",
       "      <td>NaN</td>\n",
       "      <td>NaN</td>\n",
       "      <td>0.0038</td>\n",
       "      <td>NaN</td>\n",
       "      <td>NaN</td>\n",
       "      <td>0.0038</td>\n",
       "      <td>...</td>\n",
       "      <td>0.0038</td>\n",
       "      <td>NaN</td>\n",
       "      <td>0.0038</td>\n",
       "      <td>NaN</td>\n",
       "      <td>0.0038</td>\n",
       "      <td>NaN</td>\n",
       "      <td>0.0038</td>\n",
       "      <td>0.0076</td>\n",
       "      <td>0.0038</td>\n",
       "      <td>0.0038</td>\n",
       "    </tr>\n",
       "    <tr>\n",
       "      <th>2016-12</th>\n",
       "      <td>1.0</td>\n",
       "      <td>NaN</td>\n",
       "      <td>NaN</td>\n",
       "      <td>NaN</td>\n",
       "      <td>NaN</td>\n",
       "      <td>NaN</td>\n",
       "      <td>NaN</td>\n",
       "      <td>NaN</td>\n",
       "      <td>NaN</td>\n",
       "      <td>NaN</td>\n",
       "      <td>...</td>\n",
       "      <td>NaN</td>\n",
       "      <td>NaN</td>\n",
       "      <td>NaN</td>\n",
       "      <td>NaN</td>\n",
       "      <td>NaN</td>\n",
       "      <td>NaN</td>\n",
       "      <td>NaN</td>\n",
       "      <td>NaN</td>\n",
       "      <td>NaN</td>\n",
       "      <td>NaN</td>\n",
       "    </tr>\n",
       "    <tr>\n",
       "      <th>2017-01</th>\n",
       "      <td>1.0</td>\n",
       "      <td>0.0028</td>\n",
       "      <td>NaN</td>\n",
       "      <td>0.0056</td>\n",
       "      <td>0.0014</td>\n",
       "      <td>0.0014</td>\n",
       "      <td>0.0028</td>\n",
       "      <td>0.0028</td>\n",
       "      <td>NaN</td>\n",
       "      <td>NaN</td>\n",
       "      <td>...</td>\n",
       "      <td>0.0056</td>\n",
       "      <td>0.0042</td>\n",
       "      <td>0.0028</td>\n",
       "      <td>NaN</td>\n",
       "      <td>0.0028</td>\n",
       "      <td>0.0028</td>\n",
       "      <td>0.0028</td>\n",
       "      <td>0.0014</td>\n",
       "      <td>NaN</td>\n",
       "      <td>NaN</td>\n",
       "    </tr>\n",
       "    <tr>\n",
       "      <th>2017-02</th>\n",
       "      <td>1.0</td>\n",
       "      <td>0.0012</td>\n",
       "      <td>0.0018</td>\n",
       "      <td>0.0037</td>\n",
       "      <td>0.0025</td>\n",
       "      <td>0.0012</td>\n",
       "      <td>0.0025</td>\n",
       "      <td>0.0006</td>\n",
       "      <td>0.0012</td>\n",
       "      <td>0.0031</td>\n",
       "      <td>...</td>\n",
       "      <td>0.0037</td>\n",
       "      <td>0.0006</td>\n",
       "      <td>0.0018</td>\n",
       "      <td>0.0012</td>\n",
       "      <td>0.0006</td>\n",
       "      <td>0.0006</td>\n",
       "      <td>0.0018</td>\n",
       "      <td>NaN</td>\n",
       "      <td>NaN</td>\n",
       "      <td>NaN</td>\n",
       "    </tr>\n",
       "    <tr>\n",
       "      <th>2017-03</th>\n",
       "      <td>1.0</td>\n",
       "      <td>0.0028</td>\n",
       "      <td>0.0052</td>\n",
       "      <td>0.0044</td>\n",
       "      <td>0.0012</td>\n",
       "      <td>0.0008</td>\n",
       "      <td>0.0036</td>\n",
       "      <td>0.0016</td>\n",
       "      <td>0.0028</td>\n",
       "      <td>0.0024</td>\n",
       "      <td>...</td>\n",
       "      <td>0.0016</td>\n",
       "      <td>0.0016</td>\n",
       "      <td>0.0012</td>\n",
       "      <td>0.0028</td>\n",
       "      <td>0.0008</td>\n",
       "      <td>0.0012</td>\n",
       "      <td>0.0008</td>\n",
       "      <td>NaN</td>\n",
       "      <td>NaN</td>\n",
       "      <td>NaN</td>\n",
       "    </tr>\n",
       "    <tr>\n",
       "      <th>2017-04</th>\n",
       "      <td>1.0</td>\n",
       "      <td>0.0035</td>\n",
       "      <td>0.0027</td>\n",
       "      <td>0.0004</td>\n",
       "      <td>0.0027</td>\n",
       "      <td>0.0035</td>\n",
       "      <td>0.0027</td>\n",
       "      <td>0.0044</td>\n",
       "      <td>0.0027</td>\n",
       "      <td>0.0022</td>\n",
       "      <td>...</td>\n",
       "      <td>0.0013</td>\n",
       "      <td>NaN</td>\n",
       "      <td>0.0009</td>\n",
       "      <td>0.0009</td>\n",
       "      <td>0.0009</td>\n",
       "      <td>0.0009</td>\n",
       "      <td>NaN</td>\n",
       "      <td>NaN</td>\n",
       "      <td>NaN</td>\n",
       "      <td>NaN</td>\n",
       "    </tr>\n",
       "    <tr>\n",
       "      <th>2017-05</th>\n",
       "      <td>1.0</td>\n",
       "      <td>0.0043</td>\n",
       "      <td>0.0038</td>\n",
       "      <td>0.0023</td>\n",
       "      <td>0.0038</td>\n",
       "      <td>0.0032</td>\n",
       "      <td>0.0032</td>\n",
       "      <td>0.0012</td>\n",
       "      <td>0.0029</td>\n",
       "      <td>0.0026</td>\n",
       "      <td>...</td>\n",
       "      <td>0.0032</td>\n",
       "      <td>0.0017</td>\n",
       "      <td>0.0009</td>\n",
       "      <td>0.0020</td>\n",
       "      <td>0.0012</td>\n",
       "      <td>NaN</td>\n",
       "      <td>NaN</td>\n",
       "      <td>NaN</td>\n",
       "      <td>NaN</td>\n",
       "      <td>NaN</td>\n",
       "    </tr>\n",
       "    <tr>\n",
       "      <th>2017-06</th>\n",
       "      <td>1.0</td>\n",
       "      <td>0.0043</td>\n",
       "      <td>0.0053</td>\n",
       "      <td>0.0033</td>\n",
       "      <td>0.0020</td>\n",
       "      <td>0.0049</td>\n",
       "      <td>0.0030</td>\n",
       "      <td>0.0020</td>\n",
       "      <td>0.0013</td>\n",
       "      <td>0.0033</td>\n",
       "      <td>...</td>\n",
       "      <td>0.0026</td>\n",
       "      <td>0.0010</td>\n",
       "      <td>0.0030</td>\n",
       "      <td>0.0013</td>\n",
       "      <td>NaN</td>\n",
       "      <td>NaN</td>\n",
       "      <td>NaN</td>\n",
       "      <td>NaN</td>\n",
       "      <td>NaN</td>\n",
       "      <td>NaN</td>\n",
       "    </tr>\n",
       "    <tr>\n",
       "      <th>2017-07</th>\n",
       "      <td>1.0</td>\n",
       "      <td>0.0040</td>\n",
       "      <td>0.0024</td>\n",
       "      <td>0.0024</td>\n",
       "      <td>0.0032</td>\n",
       "      <td>0.0021</td>\n",
       "      <td>0.0024</td>\n",
       "      <td>0.0019</td>\n",
       "      <td>0.0016</td>\n",
       "      <td>0.0027</td>\n",
       "      <td>...</td>\n",
       "      <td>0.0024</td>\n",
       "      <td>0.0019</td>\n",
       "      <td>0.0016</td>\n",
       "      <td>NaN</td>\n",
       "      <td>NaN</td>\n",
       "      <td>NaN</td>\n",
       "      <td>NaN</td>\n",
       "      <td>NaN</td>\n",
       "      <td>NaN</td>\n",
       "      <td>NaN</td>\n",
       "    </tr>\n",
       "    <tr>\n",
       "      <th>2017-08</th>\n",
       "      <td>1.0</td>\n",
       "      <td>0.0067</td>\n",
       "      <td>0.0025</td>\n",
       "      <td>0.0037</td>\n",
       "      <td>0.0035</td>\n",
       "      <td>0.0047</td>\n",
       "      <td>0.0025</td>\n",
       "      <td>0.0025</td>\n",
       "      <td>0.0015</td>\n",
       "      <td>0.0020</td>\n",
       "      <td>...</td>\n",
       "      <td>0.0017</td>\n",
       "      <td>0.0007</td>\n",
       "      <td>NaN</td>\n",
       "      <td>NaN</td>\n",
       "      <td>NaN</td>\n",
       "      <td>NaN</td>\n",
       "      <td>NaN</td>\n",
       "      <td>NaN</td>\n",
       "      <td>NaN</td>\n",
       "      <td>NaN</td>\n",
       "    </tr>\n",
       "    <tr>\n",
       "      <th>2017-09</th>\n",
       "      <td>1.0</td>\n",
       "      <td>0.0050</td>\n",
       "      <td>0.0045</td>\n",
       "      <td>0.0035</td>\n",
       "      <td>0.0032</td>\n",
       "      <td>0.0022</td>\n",
       "      <td>0.0027</td>\n",
       "      <td>0.0015</td>\n",
       "      <td>0.0032</td>\n",
       "      <td>0.0017</td>\n",
       "      <td>...</td>\n",
       "      <td>0.0002</td>\n",
       "      <td>NaN</td>\n",
       "      <td>NaN</td>\n",
       "      <td>NaN</td>\n",
       "      <td>NaN</td>\n",
       "      <td>NaN</td>\n",
       "      <td>NaN</td>\n",
       "      <td>NaN</td>\n",
       "      <td>NaN</td>\n",
       "      <td>NaN</td>\n",
       "    </tr>\n",
       "    <tr>\n",
       "      <th>2017-10</th>\n",
       "      <td>1.0</td>\n",
       "      <td>0.0060</td>\n",
       "      <td>0.0009</td>\n",
       "      <td>0.0014</td>\n",
       "      <td>0.0028</td>\n",
       "      <td>0.0014</td>\n",
       "      <td>0.0030</td>\n",
       "      <td>0.0037</td>\n",
       "      <td>0.0025</td>\n",
       "      <td>0.0021</td>\n",
       "      <td>...</td>\n",
       "      <td>NaN</td>\n",
       "      <td>NaN</td>\n",
       "      <td>NaN</td>\n",
       "      <td>NaN</td>\n",
       "      <td>NaN</td>\n",
       "      <td>NaN</td>\n",
       "      <td>NaN</td>\n",
       "      <td>NaN</td>\n",
       "      <td>NaN</td>\n",
       "      <td>NaN</td>\n",
       "    </tr>\n",
       "    <tr>\n",
       "      <th>2017-11</th>\n",
       "      <td>1.0</td>\n",
       "      <td>0.0035</td>\n",
       "      <td>0.0028</td>\n",
       "      <td>0.0017</td>\n",
       "      <td>0.0013</td>\n",
       "      <td>0.0020</td>\n",
       "      <td>0.0011</td>\n",
       "      <td>0.0018</td>\n",
       "      <td>0.0007</td>\n",
       "      <td>0.0003</td>\n",
       "      <td>...</td>\n",
       "      <td>NaN</td>\n",
       "      <td>NaN</td>\n",
       "      <td>NaN</td>\n",
       "      <td>NaN</td>\n",
       "      <td>NaN</td>\n",
       "      <td>NaN</td>\n",
       "      <td>NaN</td>\n",
       "      <td>NaN</td>\n",
       "      <td>NaN</td>\n",
       "      <td>NaN</td>\n",
       "    </tr>\n",
       "    <tr>\n",
       "      <th>2017-12</th>\n",
       "      <td>1.0</td>\n",
       "      <td>0.0026</td>\n",
       "      <td>0.0036</td>\n",
       "      <td>0.0019</td>\n",
       "      <td>0.0030</td>\n",
       "      <td>0.0019</td>\n",
       "      <td>0.0007</td>\n",
       "      <td>0.0011</td>\n",
       "      <td>0.0009</td>\n",
       "      <td>NaN</td>\n",
       "      <td>...</td>\n",
       "      <td>NaN</td>\n",
       "      <td>NaN</td>\n",
       "      <td>NaN</td>\n",
       "      <td>NaN</td>\n",
       "      <td>NaN</td>\n",
       "      <td>NaN</td>\n",
       "      <td>NaN</td>\n",
       "      <td>NaN</td>\n",
       "      <td>NaN</td>\n",
       "      <td>NaN</td>\n",
       "    </tr>\n",
       "    <tr>\n",
       "      <th>2018-01</th>\n",
       "      <td>1.0</td>\n",
       "      <td>0.0034</td>\n",
       "      <td>0.0032</td>\n",
       "      <td>0.0032</td>\n",
       "      <td>0.0016</td>\n",
       "      <td>0.0019</td>\n",
       "      <td>0.0025</td>\n",
       "      <td>0.0009</td>\n",
       "      <td>NaN</td>\n",
       "      <td>NaN</td>\n",
       "      <td>...</td>\n",
       "      <td>NaN</td>\n",
       "      <td>NaN</td>\n",
       "      <td>NaN</td>\n",
       "      <td>NaN</td>\n",
       "      <td>NaN</td>\n",
       "      <td>NaN</td>\n",
       "      <td>NaN</td>\n",
       "      <td>NaN</td>\n",
       "      <td>NaN</td>\n",
       "      <td>NaN</td>\n",
       "    </tr>\n",
       "    <tr>\n",
       "      <th>2018-02</th>\n",
       "      <td>1.0</td>\n",
       "      <td>0.0035</td>\n",
       "      <td>0.0037</td>\n",
       "      <td>0.0027</td>\n",
       "      <td>0.0024</td>\n",
       "      <td>0.0021</td>\n",
       "      <td>0.0008</td>\n",
       "      <td>NaN</td>\n",
       "      <td>NaN</td>\n",
       "      <td>NaN</td>\n",
       "      <td>...</td>\n",
       "      <td>NaN</td>\n",
       "      <td>NaN</td>\n",
       "      <td>NaN</td>\n",
       "      <td>NaN</td>\n",
       "      <td>NaN</td>\n",
       "      <td>NaN</td>\n",
       "      <td>NaN</td>\n",
       "      <td>NaN</td>\n",
       "      <td>NaN</td>\n",
       "      <td>NaN</td>\n",
       "    </tr>\n",
       "    <tr>\n",
       "      <th>2018-03</th>\n",
       "      <td>1.0</td>\n",
       "      <td>0.0037</td>\n",
       "      <td>0.0016</td>\n",
       "      <td>0.0022</td>\n",
       "      <td>0.0016</td>\n",
       "      <td>0.0004</td>\n",
       "      <td>NaN</td>\n",
       "      <td>NaN</td>\n",
       "      <td>NaN</td>\n",
       "      <td>NaN</td>\n",
       "      <td>...</td>\n",
       "      <td>NaN</td>\n",
       "      <td>NaN</td>\n",
       "      <td>NaN</td>\n",
       "      <td>NaN</td>\n",
       "      <td>NaN</td>\n",
       "      <td>NaN</td>\n",
       "      <td>NaN</td>\n",
       "      <td>NaN</td>\n",
       "      <td>NaN</td>\n",
       "      <td>NaN</td>\n",
       "    </tr>\n",
       "    <tr>\n",
       "      <th>2018-04</th>\n",
       "      <td>1.0</td>\n",
       "      <td>0.0046</td>\n",
       "      <td>0.0015</td>\n",
       "      <td>0.0024</td>\n",
       "      <td>0.0008</td>\n",
       "      <td>NaN</td>\n",
       "      <td>NaN</td>\n",
       "      <td>NaN</td>\n",
       "      <td>NaN</td>\n",
       "      <td>NaN</td>\n",
       "      <td>...</td>\n",
       "      <td>NaN</td>\n",
       "      <td>NaN</td>\n",
       "      <td>NaN</td>\n",
       "      <td>NaN</td>\n",
       "      <td>NaN</td>\n",
       "      <td>NaN</td>\n",
       "      <td>NaN</td>\n",
       "      <td>NaN</td>\n",
       "      <td>NaN</td>\n",
       "      <td>NaN</td>\n",
       "    </tr>\n",
       "    <tr>\n",
       "      <th>2018-05</th>\n",
       "      <td>1.0</td>\n",
       "      <td>0.0031</td>\n",
       "      <td>0.0031</td>\n",
       "      <td>0.0006</td>\n",
       "      <td>NaN</td>\n",
       "      <td>NaN</td>\n",
       "      <td>NaN</td>\n",
       "      <td>NaN</td>\n",
       "      <td>NaN</td>\n",
       "      <td>NaN</td>\n",
       "      <td>...</td>\n",
       "      <td>NaN</td>\n",
       "      <td>NaN</td>\n",
       "      <td>NaN</td>\n",
       "      <td>NaN</td>\n",
       "      <td>NaN</td>\n",
       "      <td>NaN</td>\n",
       "      <td>NaN</td>\n",
       "      <td>NaN</td>\n",
       "      <td>NaN</td>\n",
       "      <td>NaN</td>\n",
       "    </tr>\n",
       "    <tr>\n",
       "      <th>2018-06</th>\n",
       "      <td>1.0</td>\n",
       "      <td>0.0037</td>\n",
       "      <td>0.0010</td>\n",
       "      <td>NaN</td>\n",
       "      <td>NaN</td>\n",
       "      <td>NaN</td>\n",
       "      <td>NaN</td>\n",
       "      <td>NaN</td>\n",
       "      <td>NaN</td>\n",
       "      <td>NaN</td>\n",
       "      <td>...</td>\n",
       "      <td>NaN</td>\n",
       "      <td>NaN</td>\n",
       "      <td>NaN</td>\n",
       "      <td>NaN</td>\n",
       "      <td>NaN</td>\n",
       "      <td>NaN</td>\n",
       "      <td>NaN</td>\n",
       "      <td>NaN</td>\n",
       "      <td>NaN</td>\n",
       "      <td>NaN</td>\n",
       "    </tr>\n",
       "    <tr>\n",
       "      <th>2018-07</th>\n",
       "      <td>1.0</td>\n",
       "      <td>0.0010</td>\n",
       "      <td>NaN</td>\n",
       "      <td>NaN</td>\n",
       "      <td>NaN</td>\n",
       "      <td>NaN</td>\n",
       "      <td>NaN</td>\n",
       "      <td>NaN</td>\n",
       "      <td>NaN</td>\n",
       "      <td>NaN</td>\n",
       "      <td>...</td>\n",
       "      <td>NaN</td>\n",
       "      <td>NaN</td>\n",
       "      <td>NaN</td>\n",
       "      <td>NaN</td>\n",
       "      <td>NaN</td>\n",
       "      <td>NaN</td>\n",
       "      <td>NaN</td>\n",
       "      <td>NaN</td>\n",
       "      <td>NaN</td>\n",
       "      <td>NaN</td>\n",
       "    </tr>\n",
       "    <tr>\n",
       "      <th>2018-08</th>\n",
       "      <td>1.0</td>\n",
       "      <td>NaN</td>\n",
       "      <td>NaN</td>\n",
       "      <td>NaN</td>\n",
       "      <td>NaN</td>\n",
       "      <td>NaN</td>\n",
       "      <td>NaN</td>\n",
       "      <td>NaN</td>\n",
       "      <td>NaN</td>\n",
       "      <td>NaN</td>\n",
       "      <td>...</td>\n",
       "      <td>NaN</td>\n",
       "      <td>NaN</td>\n",
       "      <td>NaN</td>\n",
       "      <td>NaN</td>\n",
       "      <td>NaN</td>\n",
       "      <td>NaN</td>\n",
       "      <td>NaN</td>\n",
       "      <td>NaN</td>\n",
       "      <td>NaN</td>\n",
       "      <td>NaN</td>\n",
       "    </tr>\n",
       "  </tbody>\n",
       "</table>\n",
       "<p>23 rows × 21 columns</p>\n",
       "</div>"
      ],
      "text/plain": [
       "months_passed  0.0     1.0     2.0     3.0     4.0     5.0     6.0     7.0   \\\n",
       "cohort                                                                        \n",
       "2016-09         1.0     NaN     NaN     NaN     NaN     NaN     NaN     NaN   \n",
       "2016-10         1.0     NaN     NaN     NaN     NaN     NaN  0.0038     NaN   \n",
       "2016-12         1.0     NaN     NaN     NaN     NaN     NaN     NaN     NaN   \n",
       "2017-01         1.0  0.0028     NaN  0.0056  0.0014  0.0014  0.0028  0.0028   \n",
       "2017-02         1.0  0.0012  0.0018  0.0037  0.0025  0.0012  0.0025  0.0006   \n",
       "2017-03         1.0  0.0028  0.0052  0.0044  0.0012  0.0008  0.0036  0.0016   \n",
       "2017-04         1.0  0.0035  0.0027  0.0004  0.0027  0.0035  0.0027  0.0044   \n",
       "2017-05         1.0  0.0043  0.0038  0.0023  0.0038  0.0032  0.0032  0.0012   \n",
       "2017-06         1.0  0.0043  0.0053  0.0033  0.0020  0.0049  0.0030  0.0020   \n",
       "2017-07         1.0  0.0040  0.0024  0.0024  0.0032  0.0021  0.0024  0.0019   \n",
       "2017-08         1.0  0.0067  0.0025  0.0037  0.0035  0.0047  0.0025  0.0025   \n",
       "2017-09         1.0  0.0050  0.0045  0.0035  0.0032  0.0022  0.0027  0.0015   \n",
       "2017-10         1.0  0.0060  0.0009  0.0014  0.0028  0.0014  0.0030  0.0037   \n",
       "2017-11         1.0  0.0035  0.0028  0.0017  0.0013  0.0020  0.0011  0.0018   \n",
       "2017-12         1.0  0.0026  0.0036  0.0019  0.0030  0.0019  0.0007  0.0011   \n",
       "2018-01         1.0  0.0034  0.0032  0.0032  0.0016  0.0019  0.0025  0.0009   \n",
       "2018-02         1.0  0.0035  0.0037  0.0027  0.0024  0.0021  0.0008     NaN   \n",
       "2018-03         1.0  0.0037  0.0016  0.0022  0.0016  0.0004     NaN     NaN   \n",
       "2018-04         1.0  0.0046  0.0015  0.0024  0.0008     NaN     NaN     NaN   \n",
       "2018-05         1.0  0.0031  0.0031  0.0006     NaN     NaN     NaN     NaN   \n",
       "2018-06         1.0  0.0037  0.0010     NaN     NaN     NaN     NaN     NaN   \n",
       "2018-07         1.0  0.0010     NaN     NaN     NaN     NaN     NaN     NaN   \n",
       "2018-08         1.0     NaN     NaN     NaN     NaN     NaN     NaN     NaN   \n",
       "\n",
       "months_passed    8.0     9.0   ...    11.0    12.0    13.0    14.0    15.0  \\\n",
       "cohort                         ...                                           \n",
       "2016-09           NaN     NaN  ...     NaN     NaN     NaN     NaN     NaN   \n",
       "2016-10           NaN  0.0038  ...  0.0038     NaN  0.0038     NaN  0.0038   \n",
       "2016-12           NaN     NaN  ...     NaN     NaN     NaN     NaN     NaN   \n",
       "2017-01           NaN     NaN  ...  0.0056  0.0042  0.0028     NaN  0.0028   \n",
       "2017-02        0.0012  0.0031  ...  0.0037  0.0006  0.0018  0.0012  0.0006   \n",
       "2017-03        0.0028  0.0024  ...  0.0016  0.0016  0.0012  0.0028  0.0008   \n",
       "2017-04        0.0027  0.0022  ...  0.0013     NaN  0.0009  0.0009  0.0009   \n",
       "2017-05        0.0029  0.0026  ...  0.0032  0.0017  0.0009  0.0020  0.0012   \n",
       "2017-06        0.0013  0.0033  ...  0.0026  0.0010  0.0030  0.0013     NaN   \n",
       "2017-07        0.0016  0.0027  ...  0.0024  0.0019  0.0016     NaN     NaN   \n",
       "2017-08        0.0015  0.0020  ...  0.0017  0.0007     NaN     NaN     NaN   \n",
       "2017-09        0.0032  0.0017  ...  0.0002     NaN     NaN     NaN     NaN   \n",
       "2017-10        0.0025  0.0021  ...     NaN     NaN     NaN     NaN     NaN   \n",
       "2017-11        0.0007  0.0003  ...     NaN     NaN     NaN     NaN     NaN   \n",
       "2017-12        0.0009     NaN  ...     NaN     NaN     NaN     NaN     NaN   \n",
       "2018-01           NaN     NaN  ...     NaN     NaN     NaN     NaN     NaN   \n",
       "2018-02           NaN     NaN  ...     NaN     NaN     NaN     NaN     NaN   \n",
       "2018-03           NaN     NaN  ...     NaN     NaN     NaN     NaN     NaN   \n",
       "2018-04           NaN     NaN  ...     NaN     NaN     NaN     NaN     NaN   \n",
       "2018-05           NaN     NaN  ...     NaN     NaN     NaN     NaN     NaN   \n",
       "2018-06           NaN     NaN  ...     NaN     NaN     NaN     NaN     NaN   \n",
       "2018-07           NaN     NaN  ...     NaN     NaN     NaN     NaN     NaN   \n",
       "2018-08           NaN     NaN  ...     NaN     NaN     NaN     NaN     NaN   \n",
       "\n",
       "months_passed    16.0    17.0    19.0    20.0    21.0  \n",
       "cohort                                                 \n",
       "2016-09           NaN     NaN     NaN     NaN     NaN  \n",
       "2016-10           NaN  0.0038  0.0076  0.0038  0.0038  \n",
       "2016-12           NaN     NaN     NaN     NaN     NaN  \n",
       "2017-01        0.0028  0.0028  0.0014     NaN     NaN  \n",
       "2017-02        0.0006  0.0018     NaN     NaN     NaN  \n",
       "2017-03        0.0012  0.0008     NaN     NaN     NaN  \n",
       "2017-04        0.0009     NaN     NaN     NaN     NaN  \n",
       "2017-05           NaN     NaN     NaN     NaN     NaN  \n",
       "2017-06           NaN     NaN     NaN     NaN     NaN  \n",
       "2017-07           NaN     NaN     NaN     NaN     NaN  \n",
       "2017-08           NaN     NaN     NaN     NaN     NaN  \n",
       "2017-09           NaN     NaN     NaN     NaN     NaN  \n",
       "2017-10           NaN     NaN     NaN     NaN     NaN  \n",
       "2017-11           NaN     NaN     NaN     NaN     NaN  \n",
       "2017-12           NaN     NaN     NaN     NaN     NaN  \n",
       "2018-01           NaN     NaN     NaN     NaN     NaN  \n",
       "2018-02           NaN     NaN     NaN     NaN     NaN  \n",
       "2018-03           NaN     NaN     NaN     NaN     NaN  \n",
       "2018-04           NaN     NaN     NaN     NaN     NaN  \n",
       "2018-05           NaN     NaN     NaN     NaN     NaN  \n",
       "2018-06           NaN     NaN     NaN     NaN     NaN  \n",
       "2018-07           NaN     NaN     NaN     NaN     NaN  \n",
       "2018-08           NaN     NaN     NaN     NaN     NaN  \n",
       "\n",
       "[23 rows x 21 columns]"
      ]
     },
     "execution_count": 14,
     "metadata": {},
     "output_type": "execute_result"
    }
   ],
   "source": [
    "# Месячный retention\n",
    "rot_tbl_ch = rot_tbl.pivot(index='cohort', columns='months_passed', values='retention_prc')\n",
    "ret_tbl_ch_dl = rot_tbl.pivot(index='cohort', columns='months_passed', values='retention')\n",
    "ret_tbl_ch_dl"
   ]
  },
  {
   "cell_type": "markdown",
   "metadata": {},
   "source": [
    "#### 1.2 Чему равен медианный retention за первый месяц? Ответ укажите в виде доли и с 4 знаками после запятой."
   ]
  },
  {
   "cell_type": "code",
   "execution_count": 15,
   "metadata": {},
   "outputs": [
    {
     "data": {
      "text/plain": [
       "0.0035"
      ]
     },
     "execution_count": 15,
     "metadata": {},
     "output_type": "execute_result"
    }
   ],
   "source": [
    "# Медианный retention за первый месяц.\n",
    "med_ret = median(rot_tbl.pivot(index='cohort', columns='months_passed', values='retention')[1]) #0.0035 \n",
    "med_ret"
   ]
  },
  {
   "cell_type": "markdown",
   "metadata": {},
   "source": [
    "#### 1.3 Найти когорту с самым высоким retention на 3-й месяц."
   ]
  },
  {
   "cell_type": "code",
   "execution_count": 16,
   "metadata": {},
   "outputs": [
    {
     "data": {
      "text/plain": [
       "cohort\n",
       "2017-01    0.0056\n",
       "Freq: M, Name: 3.0, dtype: float64"
      ]
     },
     "execution_count": 16,
     "metadata": {},
     "output_type": "execute_result"
    }
   ],
   "source": [
    "# Когорта с самым высоким retention на 3-й месяц.\n",
    "ret_tbl_ch_dl[3].sort_values(ascending=False).head(1) #2017-01    0.0056"
   ]
  },
  {
   "cell_type": "code",
   "execution_count": 17,
   "metadata": {},
   "outputs": [
    {
     "data": {
      "image/png": "[encoded data removed]",
      "text/plain": [
       "<Figure size 1152x864 with 3 Axes>"
      ]
     },
     "metadata": {},
     "output_type": "display_data"
    }
   ],
   "source": [
    "# Построение тепловой карты\n",
    "\n",
    "#Изменение индекса\n",
    "zero_day.set_index('cohort', inplace=True)\n",
    "\n",
    "# Рассчитываем размеры когорт (первый столбец сводной таблицы)\n",
    "cohort_size = rot_tbl_ch.iloc[:, 0]\n",
    "\n",
    "# Вычисляем коэффициенты удержания, деля на размер когорты\n",
    "retention_matrix = rot_tbl_ch.divide(cohort_size, axis=0)\n",
    "# Строим тепловую карту когортного анализа\n",
    "with sns.axes_style(\"white\"):\n",
    "    fig, ax = plt.subplots(1, 2, figsize=(16, 12), sharey=True, gridspec_kw={'width_ratios': [1, 11]})\n",
    "\n",
    "    # Тепловая карта для коэффициентов удержания\n",
    "    sns.heatmap(retention_matrix,\n",
    "                mask=retention_matrix.isnull(),\n",
    "                annot=True,\n",
    "                fmt='.0%',\n",
    "                cmap='RdYlGn',\n",
    "                ax=ax[1])\n",
    "    ax[1].set_title('Monthly Retention', fontsize=16)\n",
    "    ax[1].set(xlabel='№ периода', ylabel='Когорта')\n",
    "\n",
    "    # Тепловая карта для размеров когорт\n",
    "    cohort_size_df = zero_day\n",
    "    white_cmap = mcolors.ListedColormap(['white'])\n",
    "    sns.heatmap(cohort_size_df,\n",
    "                annot=True,\n",
    "                cbar=False,\n",
    "                fmt='g',\n",
    "                cmap=white_cmap,\n",
    "                ax=ax[0])\n",
    "\n",
    "    fig.tight_layout()\n",
    "    plt.show()"
   ]
  },
  {
   "cell_type": "markdown",
   "metadata": {},
   "source": [
    "#### Вывод: \n",
    "Заявленная проблема - прекращение роста выручки. Во всех когортах почти одинаково низкий retention (меньше 1%). "
   ]
  },
  {
   "cell_type": "markdown",
   "metadata": {},
   "source": [
    "### Задача 2: Определить, существует ли product/market fit у этого маркетплейса."
   ]
  },
  {
   "cell_type": "markdown",
   "metadata": {},
   "source": [
    "#### 2.1 Оценка product/market fit."
   ]
  },
  {
   "cell_type": "code",
   "execution_count": 18,
   "metadata": {},
   "outputs": [],
   "source": [
    "rot [\"month_create\"] = rot.order_purchase_timestamp.dt.to_period(\"M\")"
   ]
  },
  {
   "cell_type": "code",
   "execution_count": 19,
   "metadata": {},
   "outputs": [],
   "source": [
    "rot ['month_first_create'] = rot.fst_order.dt.to_period(\"M\")"
   ]
  },
  {
   "cell_type": "code",
   "execution_count": 20,
   "metadata": {},
   "outputs": [],
   "source": [
    "# Расчет общего retention\n",
    "all_retention = rot_tbl.groupby('months_passed').agg({'count_user_y':'sum', 'count_user_x':'sum'  })\n",
    "all_retention ['retention'] = round(all_retention['count_user_x']/all_retention['count_user_y'],4)\n",
    "all_retention = all_retention.reset_index()\n",
    "all_retention ['retention_pct'] = round(all_retention ['retention'] * 100,2)"
   ]
  },
  {
   "cell_type": "code",
   "execution_count": 21,
   "metadata": {},
   "outputs": [
    {
     "data": {
      "text/plain": [
       "<matplotlib.axes._subplots.AxesSubplot at 0x7f0da40c0e80>"
      ]
     },
     "execution_count": 21,
     "metadata": {},
     "output_type": "execute_result"
    },
    {
     "data": {
      "image/png": "[encoded data removed]",
      "text/plain": [
       "<Figure size 432x288 with 1 Axes>"
      ]
     },
     "metadata": {
      "needs_background": "light"
     },
     "output_type": "display_data"
    }
   ],
   "source": [
    "all_retention.plot(x=\"months_passed\",y=\"retention\")"
   ]
  },
  {
   "cell_type": "code",
   "execution_count": 22,
   "metadata": {},
   "outputs": [],
   "source": [
    "#Объединение всех таблиц\n",
    "all_info =  pd.merge(olist_orders_dataset,  olist_customers_dataset, on='customer_id' ,how='left')\n",
    "all_info =  pd.merge(all_info,  olist_order_items_dataset, on='order_id' ,how='left')\n",
    "all_info ['month_order_purchase_timestamp'] = all_info['order_purchase_timestamp'].dt.to_period(\"M\")\n",
    "all_fst = all_info.groupby(['customer_unique_id'],as_index = False).agg({'order_purchase_timestamp':'min'})\n",
    "all_info = pd.merge(all_info, all_fst, on='customer_unique_id', how='left')\n",
    "all_info ['months_passed'] = np.floor((all_info.order_purchase_timestamp_x - all_info.order_purchase_timestamp_y).dt.days / 30)"
   ]
  },
  {
   "cell_type": "markdown",
   "metadata": {},
   "source": [
    "#### 2.2 Возможные причины."
   ]
  },
  {
   "cell_type": "code",
   "execution_count": 23,
   "metadata": {},
   "outputs": [
    {
     "data": {
      "text/plain": [
       "11.838175400488732"
      ]
     },
     "execution_count": 23,
     "metadata": {},
     "output_type": "execute_result"
    }
   ],
   "source": [
    "# Клиентов не устроило время доставки?\n",
    "((olist_orders_dataset['order_delivered_carrier_date'] - olist_orders_dataset['order_purchase_timestamp']).dt.days > 5).sum()*100/olist_orders_dataset['order_id'].count()\n",
    "# Возможно. У более чем 11% заказов время доставки составило более 5 дней при 2-3 днях в среднем."
   ]
  },
  {
   "cell_type": "code",
   "execution_count": 24,
   "metadata": {},
   "outputs": [
    {
     "data": {
      "text/plain": [
       "17.5179252018785"
      ]
     },
     "execution_count": 24,
     "metadata": {},
     "output_type": "execute_result"
    }
   ],
   "source": [
    "# Есть проблемы с подтвеждением оплаты?\n",
    "((olist_orders_dataset['order_approved_at'] - olist_orders_dataset['order_purchase_timestamp']).dt.days > 0).sum()*100/olist_orders_dataset['order_id'].count()\n",
    "# Возможно. У более чем 17% заказов время подтверждения оплаты составило 1 и более дней."
   ]
  },
  {
   "cell_type": "markdown",
   "metadata": {},
   "source": [
    "#### Вывод: \n",
    "Product/market fit отсутствует так как  retention стремится к нулю и не выходит на плато. В большенстве своем клиенты не возвращаются после первого заказа. Возможно клиенты были недовольны сроками доставки и получив плохой пользовательский опыт решили не возвращаться в продукт. Возможно есть проблемы с системой оплаты столкнувшись с которыми клиенты также решили не возвращаться в продукт."
   ]
  },
  {
   "cell_type": "markdown",
   "metadata": {},
   "source": [
    "### Задача 3: Определить 5 основных метрик, на которых продакту можно сконцентрироваться, чтобы максимизировать прибыль компании."
   ]
  },
  {
   "cell_type": "markdown",
   "metadata": {},
   "source": [
    "#### 3.1 Первая метрика должна отражать рост объёма продаж маркетплейса. Выручка (Revenue)."
   ]
  },
  {
   "cell_type": "code",
   "execution_count": 25,
   "metadata": {},
   "outputs": [
    {
     "data": {
      "image/png": "[encoded data removed]",
      "text/plain": [
       "<Figure size 1512x504 with 1 Axes>"
      ]
     },
     "metadata": {
      "needs_background": "light"
     },
     "output_type": "display_data"
    }
   ],
   "source": [
    "# Расчет выручки (Revenue)\n",
    "all_info.query(\"order_status == 'delivered'\").groupby('month_order_purchase_timestamp',as_index = False).agg({'price':'sum'}).plot( figsize=(21,7), legend=False, color='black')\n",
    "\n",
    "plt.title('Revenue')\n",
    "plt.xlabel('Месяц')\n",
    "plt.ylabel('млн.')\n",
    "plt.grid()\n",
    "plt.show()"
   ]
  },
  {
   "cell_type": "markdown",
   "metadata": {},
   "source": [
    "#### 3.2 Вторая метрика — показывать объем аудитории, которой продукт доставляет ценность. MAU (кол-во активных платящих клиентов)."
   ]
  },
  {
   "cell_type": "code",
   "execution_count": 26,
   "metadata": {},
   "outputs": [
    {
     "data": {
      "image/png": "[encoded data removed]",
      "text/plain": [
       "<Figure size 1512x504 with 1 Axes>"
      ]
     },
     "metadata": {
      "needs_background": "light"
     },
     "output_type": "display_data"
    }
   ],
   "source": [
    "# Расчет MAU (кол-во активных платящих клиентов)\n",
    "all_info.query(\"order_status == 'delivered'\").groupby('month_order_purchase_timestamp')['customer_unique_id'].nunique().plot(figsize=(21,7), legend=False, color='black') \n",
    "\n",
    "plt.title('MAU')\n",
    "plt.xlabel('')\n",
    "plt.ylabel('Кол-во клиентов')\n",
    "plt.grid()\n",
    "plt.show()"
   ]
  },
  {
   "cell_type": "markdown",
   "metadata": {},
   "source": [
    "#### 3.3 Третья метрика — отражать заинтересованность новых клиентов в продакте. Коэффициент конверсии (Conversion Rate)."
   ]
  },
  {
   "cell_type": "code",
   "execution_count": 27,
   "metadata": {},
   "outputs": [
    {
     "data": {
      "image/png": "[encoded data removed]",
      "text/plain": [
       "<Figure size 1512x504 with 1 Axes>"
      ]
     },
     "metadata": {
      "needs_background": "light"
     },
     "output_type": "display_data"
    }
   ],
   "source": [
    "# Расчет коэффициента конверсии (Conversion Rate)\n",
    "round(all_info.query(\"order_status == 'delivered' and order_purchase_timestamp_x == order_purchase_timestamp_y\").groupby('month_order_purchase_timestamp')['customer_unique_id'].nunique()*100/all_info.query(\"order_purchase_timestamp_x == order_purchase_timestamp_y\").groupby('month_order_purchase_timestamp')['customer_unique_id'].nunique(),2).plot(figsize=(21,7), legend=False, color='black')\n",
    "plt.title('Conversion Rate')\n",
    "plt.xlabel('')\n",
    "plt.ylabel('Процент клиентов, (%)')\n",
    "plt.grid()\n",
    "plt.show()"
   ]
  },
  {
   "cell_type": "markdown",
   "metadata": {},
   "source": [
    "#### 3.4 Четвёртая метрика — отражать вовлеченность клиента в продолжение использования продукта. Коэффициент удержания (Retention Rate)."
   ]
  },
  {
   "cell_type": "code",
   "execution_count": 28,
   "metadata": {},
   "outputs": [
    {
     "data": {
      "image/png": "[encoded data removed]",
      "text/plain": [
       "<Figure size 1512x504 with 1 Axes>"
      ]
     },
     "metadata": {
      "needs_background": "light"
     },
     "output_type": "display_data"
    }
   ],
   "source": [
    "# Расчет коэффициента удержания (Retention Rate)\n",
    "all_retention.plot(x=\"months_passed\", y=\"retention_pct\",figsize=(21,7), legend=False, color='black')\n",
    "plt.title('Retention Rate')\n",
    "plt.xlabel('')\n",
    "plt.ylabel('Процент клиентов,(%)')\n",
    "plt.grid()\n",
    "plt.show() "
   ]
  },
  {
   "cell_type": "markdown",
   "metadata": {},
   "source": [
    "#### 3.5 Пятая метрика — отражать денежное выражение вовлеченности клиента. Средний доход на пользователя (Average Revenue Per User - ARPU)."
   ]
  },
  {
   "cell_type": "code",
   "execution_count": 29,
   "metadata": {},
   "outputs": [
    {
     "data": {
      "image/png": "[encoded data removed]",
      "text/plain": [
       "<Figure size 1512x504 with 1 Axes>"
      ]
     },
     "metadata": {
      "needs_background": "light"
     },
     "output_type": "display_data"
    }
   ],
   "source": [
    "# Расчет среднего дохода на пользователя (Average Revenue Per User - ARPU)\n",
    "round(all_info.query(\"order_status == 'delivered'\").groupby('month_order_purchase_timestamp')['price'].sum() /all_info.query(\"order_status == 'delivered'\").groupby('month_order_purchase_timestamp')['customer_unique_id'].nunique(),2).plot(figsize=(21,7), legend=False, color='black')\n",
    "plt.title('ARPU')\n",
    "plt.xlabel('')\n",
    "plt.ylabel('Доход')\n",
    "plt.grid()\n",
    "plt.show() "
   ]
  },
  {
   "cell_type": "markdown",
   "metadata": {},
   "source": [
    "#### Вывод: \n",
    "Так как у нас почти отсутствует retention, но при этом сonversion среди новых клиентов очень высокий, то получается, что основная часть выручки формируется из заказов первичных клиентов. Так как после скачкообразного прироста новых клиентов в 2017-11 их колличество стало сокращаться выручка также стала сокращаться. Размер среднего чека значительно не изменялся."
   ]
  },
  {
   "cell_type": "markdown",
   "metadata": {},
   "source": [
    "### Задача 4: Выбрать одну из 3 основных гипотез с помощью фреймворка ICE."
   ]
  },
  {
   "cell_type": "code",
   "execution_count": 30,
   "metadata": {},
   "outputs": [],
   "source": [
    "# По условию необходимо использовать данные с 2017.06\n",
    "order_2017_06 = all_info.query(\"order_purchase_timestamp_x >= '2017-06-01 00:00:00'\")"
   ]
  },
  {
   "cell_type": "code",
   "execution_count": 31,
   "metadata": {},
   "outputs": [],
   "source": [
    "# Функция для расчета impact\n",
    "def definition_impact (x):\n",
    "    impact =    [[[1],[list(range(51))]],\n",
    "                [[2],[list(range(51,151))]],\n",
    "                [[3],[list(range(151,351))]],\n",
    "                [[4],[list(range(351,751))]],\n",
    "                [[5],[list(range(751,1550))]],\n",
    "                [[6],[list(range(1551,1351))]],\n",
    "                [[7],[list(range(3151,6351))]],\n",
    "                [[8],[list(range(6351,12751))]],\n",
    "                [[9],[list(range(12751,25551))]],\n",
    "                [[10],[list(range(25551,51151))]]]\n",
    "    for i in impact:       \n",
    "        if x in i[1][0]:\n",
    "            return i[0][0]          "
   ]
  },
  {
   "cell_type": "markdown",
   "metadata": {},
   "source": [
    "#### Гипотеза 1\n",
    "Если исправим баг в системе процессинга заказов, то клиентам не придётся сталкиваться с проблемой отмены заказа, вследствие чего количество доставленных заказов увеличится. Считаем, что мы таким образом избавимся от всех отмен."
   ]
  },
  {
   "cell_type": "code",
   "execution_count": 32,
   "metadata": {},
   "outputs": [
    {
     "data": {
      "text/plain": [
       "4"
      ]
     },
     "execution_count": 32,
     "metadata": {},
     "output_type": "execute_result"
    }
   ],
   "source": [
    "# Рачет кол-ва всех отмененных заказов за период.\n",
    "impact_1 = definition_impact (order_2017_06.query(\"order_status == 'canceled'\")['order_id'].nunique()) \n",
    "impact_1"
   ]
  },
  {
   "cell_type": "code",
   "execution_count": 33,
   "metadata": {},
   "outputs": [
    {
     "data": {
      "text/plain": [
       "192"
      ]
     },
     "execution_count": 33,
     "metadata": {},
     "output_type": "execute_result"
    }
   ],
   "source": [
    "# ICE - 1\n",
    "ice_1 = impact_1*8*6\n",
    "ice_1 "
   ]
  },
  {
   "cell_type": "markdown",
   "metadata": {},
   "source": [
    "####  Гипотеза 2\n",
    "Если сократим время до отгрузки заказа, то клиенты перестанут получать свой заказ с запаздыванием, вследствие чего количество заказов увеличится за счёт повторных заказов. Считаем, что мы таким образом избавимся от всех отмен."
   ]
  },
  {
   "cell_type": "code",
   "execution_count": 34,
   "metadata": {},
   "outputs": [
    {
     "data": {
      "text/plain": [
       "2"
      ]
     },
     "execution_count": 34,
     "metadata": {},
     "output_type": "execute_result"
    }
   ],
   "source": [
    "# Рачет кол-ва отмененных повторных заказов за период.\n",
    "impact_2 = definition_impact (order_2017_06.query(\"order_status == 'canceled' and order_purchase_timestamp_x != order_purchase_timestamp_y\")['order_id'].nunique())\n",
    "impact_2 "
   ]
  },
  {
   "cell_type": "code",
   "execution_count": 35,
   "metadata": {},
   "outputs": [
    {
     "data": {
      "text/plain": [
       "80"
      ]
     },
     "execution_count": 35,
     "metadata": {},
     "output_type": "execute_result"
    }
   ],
   "source": [
    "# ICE - 2\n",
    "ice_2 = impact_2*10*4\n",
    "ice_2"
   ]
  },
  {
   "cell_type": "markdown",
   "metadata": {},
   "source": [
    "####  Гипотеза 3\n",
    "Если создадим новый способ оплаты, который будет конвертировать клиентов в повторный заказ, то клиенты не будут испытывать трудности при оформлении заказа, вследствие чего количество заказов увеличится за счёт повторных заказов."
   ]
  },
  {
   "cell_type": "code",
   "execution_count": 36,
   "metadata": {},
   "outputs": [
    {
     "data": {
      "text/plain": [
       "3"
      ]
     },
     "execution_count": 36,
     "metadata": {},
     "output_type": "execute_result"
    }
   ],
   "source": [
    "# Расчет кол-ва клиентов делавших успешные заказы за период.\n",
    "all_client = order_2017_06.query(\"order_status == 'delivered'\")['customer_unique_id'].nunique()\n",
    "impact_3 = definition_impact (round(all_client * med_ret))\n",
    "impact_3"
   ]
  },
  {
   "cell_type": "code",
   "execution_count": 37,
   "metadata": {},
   "outputs": [
    {
     "data": {
      "text/plain": [
       "135"
      ]
     },
     "execution_count": 37,
     "metadata": {},
     "output_type": "execute_result"
    }
   ],
   "source": [
    "# ICE - 3\n",
    "ice_3 = impact_3*5*9\n",
    "ice_3"
   ]
  },
  {
   "cell_type": "code",
   "execution_count": 38,
   "metadata": {},
   "outputs": [
    {
     "data": {
      "text/plain": [
       "'ice_1'"
      ]
     },
     "execution_count": 38,
     "metadata": {},
     "output_type": "execute_result"
    }
   ],
   "source": [
    "# Определение максимального ICE\n",
    "answer = {ice_1 : 'ice_1', ice_2 : 'ice_2', ice_3 : 'ice_3'}\n",
    "answer.get(max(list(answer.keys())))"
   ]
  },
  {
   "cell_type": "markdown",
   "metadata": {},
   "source": [
    "#### Вывод: \n",
    "После расчета ICE можно прийдти к выводу что 1я гипотиза более приоритетная для проверки. "
   ]
  },
  {
   "cell_type": "markdown",
   "metadata": {},
   "source": [
    "### Задача 5: Сформулировать нужные метрики, на которые ваша гипотеза должна повлиять."
   ]
  },
  {
   "cell_type": "markdown",
   "metadata": {},
   "source": [
    "<p><b>ЦЕЛЕВЫЕ:</b> кол-во отмененных заказов</p>\n",
    "<p><b>ПРОКСИ:</b> доля отмененных заказов</p>\n",
    "<p><b>GURDRAIL:</b> ARPU, MAU</p>"
   ]
  },
  {
   "cell_type": "markdown",
   "metadata": {},
   "source": [
    "#### Вывод:\n",
    "Для контроля тестирования гипотизы наиболее удобно будет использовать вышеуказанные метрики. Также изменения должны повлиять на Conversion, Revenue и в болеее меньшей степени на Retention."
   ]
  },
  {
   "cell_type": "code",
   "execution_count": null,
   "metadata": {},
   "outputs": [],
   "source": []
  },
  {
   "cell_type": "markdown",
   "metadata": {},
   "source": [
    "#### Выводы по итогу исследования:\n",
    "\n",
    "В рамках исследования был выполнен анализ данных с целью выявления причин снижения роста выручки. Результаты показали, что из-за низкого retention существует сильная корреляция между выручкой и притоком новых клиентов. При помощи ICE для дальнейшего анализа была отобрана гипотеза и подобраны метрики позволяющие наиболее полно зафиксировать проводимые изменения."
   ]
  },
  {
   "cell_type": "code",
   "execution_count": 39,
   "metadata": {},
   "outputs": [
    {
     "data": {
      "text/plain": [
       "0.6285133898492573"
      ]
     },
     "execution_count": 39,
     "metadata": {},
     "output_type": "execute_result"
    }
   ],
   "source": [
    "# Доля отмененных заказов\n",
    "all_info.query(\"order_status == 'canceled'\")['order_id'].nunique()*100/all_info['order_id'].nunique() #  % отмененных заказов"
   ]
  },
  {
   "cell_type": "markdown",
   "metadata": {},
   "source": [
    "#### Рекомендации по продукту\n",
    "\n",
    "Так как доля отмененных заказов (0,63%) в общей массе не столь велика, то даже в случае успешного подтверждения гипотезы A/B тестом и последующим ее внедрением основные метрики не вырастут значительно. Требуется разрабатывать новые гипотезы предполагающие повышение retention."
   ]
  },
  {
   "cell_type": "code",
   "execution_count": null,
   "metadata": {},
   "outputs": [],
   "source": []
  }
 ],
 "metadata": {
  "kernelspec": {
   "display_name": "Python 3",
   "language": "python",
   "name": "python3"
  },
  "language_info": {
   "codemirror_mode": {
    "name": "ipython",
    "version": 3
   },
   "file_extension": ".py",
   "mimetype": "text/x-python",
   "name": "python",
   "nbconvert_exporter": "python",
   "pygments_lexer": "ipython3",
   "version": "3.7.3"
  }
 },
 "nbformat": 4,
 "nbformat_minor": 4
}
